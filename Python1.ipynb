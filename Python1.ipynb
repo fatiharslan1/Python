{
 "cells": [
  {
   "cell_type": "code",
   "execution_count": 5,
   "id": "d02b0a68",
   "metadata": {},
   "outputs": [
    {
     "name": "stdout",
     "output_type": "stream",
     "text": [
      "hello\n",
      "world\t:)\n",
      "my name Jack\n"
     ]
    }
   ],
   "source": [
    "7print(\"hello\\nworld\\t:)\")\n",
    "print(\"my name is {}\".format('Jack'))"
   ]
  },
  {
   "cell_type": "code",
   "execution_count": 6,
   "id": "face0e24",
   "metadata": {
    "scrolled": true
   },
   "outputs": [
    {
     "name": "stdout",
     "output_type": "stream",
     "text": [
      "15\n"
     ]
    }
   ],
   "source": [
    "number = 15\n",
    "print(number)"
   ]
  },
  {
   "cell_type": "raw",
   "id": "a4fe3a7e",
   "metadata": {},
   "source": [
    "# Veri tipleri\n",
    "#int   3, 10\n",
    "#float 1.5, 7.0\n",
    "#str   \"hi\"\n",
    "#bool  True, False \n",
    "#list  [1,5,'Number']\n",
    "#set   {1,2,True}\n",
    "#dict  {'Name': 'jack', 'age':22}\n",
    "#tup   (1,2,True)"
   ]
  },
  {
   "cell_type": "code",
   "execution_count": 18,
   "id": "1ac9663f",
   "metadata": {},
   "outputs": [
    {
     "name": "stdout",
     "output_type": "stream",
     "text": [
      "ice\n"
     ]
    },
    {
     "data": {
      "text/plain": [
       "['Alice', 'Clark']"
      ]
     },
     "execution_count": 18,
     "metadata": {},
     "output_type": "execute_result"
    }
   ],
   "source": [
    "Name = \"Alice\"\n",
    "print(Name[2:])\n",
    "len(Name)\n",
    "Name.upper()\n",
    "Name = Name + \" Clark\"\n",
    "Name.split()"
   ]
  },
  {
   "cell_type": "code",
   "execution_count": 26,
   "id": "e45c4035",
   "metadata": {},
   "outputs": [
    {
     "data": {
      "text/plain": [
       "['z', 'w', 'v', 'r', 'f', 'a']"
      ]
     },
     "execution_count": 26,
     "metadata": {},
     "output_type": "execute_result"
    }
   ],
   "source": [
    "list1= ['r','f','w','a','z']\n",
    "list1 = list1 + ['v']\n",
    "list1.append('q')\n",
    "list1.pop()\n",
    "list1.sort()\n",
    "list1.reverse()\n",
    "list1"
   ]
  },
  {
   "cell_type": "code",
   "execution_count": null,
   "id": "5df9266a",
   "metadata": {},
   "outputs": [],
   "source": []
  },
  {
   "cell_type": "code",
   "execution_count": null,
   "id": "1decb51d",
   "metadata": {},
   "outputs": [],
   "source": []
  }
 ],
 "metadata": {
  "kernelspec": {
   "display_name": "Python 3 (ipykernel)",
   "language": "python",
   "name": "python3"
  },
  "language_info": {
   "codemirror_mode": {
    "name": "ipython",
    "version": 3
   },
   "file_extension": ".py",
   "mimetype": "text/x-python",
   "name": "python",
   "nbconvert_exporter": "python",
   "pygments_lexer": "ipython3",
   "version": "3.10.9"
  }
 },
 "nbformat": 4,
 "nbformat_minor": 5
}
